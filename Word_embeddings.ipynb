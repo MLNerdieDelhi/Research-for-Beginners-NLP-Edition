{
  "nbformat": 4,
  "nbformat_minor": 0,
  "metadata": {
    "colab": {
      "name": "Word embeddings",
      "provenance": [],
      "collapsed_sections": []
    },
    "kernelspec": {
      "name": "python3",
      "display_name": "Python 3"
    }
  },
  "cells": [
    {
      "cell_type": "markdown",
      "metadata": {
        "id": "W4ykhDuN-8f5",
        "colab_type": "text"
      },
      "source": [
        "# Word embeddings\n",
        "We will use the [Gensim](https://github.com/RaRe-Technologies/gensim) library to load and play around the the word2vec word emebddings."
      ]
    },
    {
      "cell_type": "code",
      "metadata": {
        "id": "7EmcBqXO4_UX",
        "colab_type": "code",
        "colab": {}
      },
      "source": [
        "from gensim.test.utils import common_texts, get_tmpfile\n",
        "from gensim.models import Word2Vec\n",
        "import gensim.downloader as api\n",
        "import warnings\n",
        "warnings.filterwarnings(\"ignore\") "
      ],
      "execution_count": 0,
      "outputs": []
    },
    {
      "cell_type": "markdown",
      "metadata": {
        "id": "afGVWIFM_NeI",
        "colab_type": "text"
      },
      "source": [
        "Download the pretrained w2vec embedding by google"
      ]
    },
    {
      "cell_type": "code",
      "metadata": {
        "id": "5bpnCP0DWcf7",
        "colab_type": "code",
        "outputId": "6f7fb7b3-bd1a-4161-a8c2-4838c73ec05b",
        "colab": {
          "base_uri": "https://localhost:8080/",
          "height": 34
        }
      },
      "source": [
        "wv = api.load('word2vec-google-news-300')\n",
        "# wv = api.load('word2vec-ruscorpora-300 ') #Smaller corpus (text data)"
      ],
      "execution_count": 0,
      "outputs": [
        {
          "output_type": "stream",
          "text": [
            "[=================================================-] 99.3% 1651.5/1662.8MB downloaded\n"
          ],
          "name": "stdout"
        }
      ]
    },
    {
      "cell_type": "markdown",
      "metadata": {
        "id": "M3HRg22Y_UEc",
        "colab_type": "text"
      },
      "source": [
        "# Basics"
      ]
    },
    {
      "cell_type": "code",
      "metadata": {
        "id": "A861_H66_S9t",
        "colab_type": "code",
        "outputId": "d712e079-0289-4278-9db0-e7ec7002f92b",
        "colab": {
          "base_uri": "https://localhost:8080/",
          "height": 885
        }
      },
      "source": [
        "# wv[\"some_word\"] returns the vector for \"some_word\"\n",
        "vector = wv[\"programming\"]\n",
        "print(vector)"
      ],
      "execution_count": 0,
      "outputs": [
        {
          "output_type": "stream",
          "text": [
            "[-0.16699219 -0.00335693  0.10498047  0.2578125   0.05566406 -0.0703125\n",
            "  0.2890625   0.06494141 -0.09179688 -0.17578125 -0.18652344  0.02709961\n",
            " -0.31835938  0.07421875 -0.04150391  0.0703125  -0.05761719  0.08349609\n",
            "  0.26757812 -0.21191406  0.00878906  0.22265625  0.16992188  0.28515625\n",
            "  0.02636719 -0.16796875  0.09277344  0.17089844 -0.06787109 -0.19726562\n",
            " -0.03564453 -0.012146   -0.03588867  0.24511719  0.11328125 -0.34179688\n",
            "  0.05395508  0.19238281  0.18261719 -0.03295898  0.02636719 -0.02099609\n",
            "  0.28320312  0.09570312 -0.36328125  0.11914062 -0.12011719  0.08789062\n",
            "  0.10449219  0.04785156 -0.11816406 -0.33789062 -0.11132812  0.10644531\n",
            " -0.0111084  -0.16992188  0.02307129 -0.08056641 -0.28125     0.03149414\n",
            "  0.109375   -0.11865234 -0.07666016 -0.05029297 -0.01257324 -0.00491333\n",
            " -0.05444336  0.07470703  0.00265503 -0.0324707   0.15625    -0.15625\n",
            " -0.05932617 -0.14257812  0.01623535  0.07275391  0.11328125 -0.36914062\n",
            "  0.02600098  0.0267334   0.15332031  0.10839844 -0.17773438  0.08203125\n",
            " -0.03686523 -0.26367188 -0.03320312  0.16015625  0.07958984  0.2109375\n",
            " -0.02062988 -0.33203125 -0.0213623  -0.13476562  0.25585938 -0.16113281\n",
            " -0.13378906  0.14160156 -0.15039062  0.28515625  0.21484375  0.16894531\n",
            " -0.09130859 -0.13769531 -0.10595703 -0.1484375   0.22558594 -0.20898438\n",
            " -0.03393555 -0.23632812 -0.1953125   0.15234375 -0.16796875 -0.15332031\n",
            "  0.12890625  0.10400391 -0.03857422 -0.03881836  0.17382812 -0.140625\n",
            " -0.3359375  -0.00170135  0.15917969  0.33789062 -0.10546875 -0.13671875\n",
            " -0.19921875  0.28515625 -0.09082031  0.046875    0.15917969 -0.28710938\n",
            " -0.04394531  0.01531982 -0.0234375   0.296875    0.09130859  0.01745605\n",
            "  0.04394531  0.03637695 -0.13476562 -0.29101562 -0.04443359  0.38671875\n",
            "  0.00411987 -0.01348877  0.73046875 -0.00848389 -0.11132812  0.09326172\n",
            "  0.04077148 -0.01470947 -0.20214844 -0.19335938 -0.17871094 -0.375\n",
            " -0.15039062  0.02062988 -0.09130859 -0.05029297 -0.1796875   0.29101562\n",
            " -0.22363281  0.26953125 -0.00469971 -0.00375366  0.05786133 -0.00933838\n",
            "  0.10693359 -0.13671875  0.06176758  0.06884766  0.02514648 -0.34179688\n",
            "  0.2265625  -0.0378418   0.37109375 -0.19726562 -0.1484375   0.14453125\n",
            "  0.03564453 -0.08984375  0.20703125 -0.16113281  0.44921875  0.16699219\n",
            " -0.38867188 -0.10107422  0.36523438 -0.15917969 -0.03686523 -0.15625\n",
            "  0.05615234  0.0291748  -0.29296875  0.08544922 -0.10742188  0.00099182\n",
            " -0.04394531  0.03637695 -0.33203125 -0.00430298 -0.09765625  0.11328125\n",
            " -0.16894531 -0.0703125   0.05834961 -0.04492188 -0.03588867  0.28710938\n",
            " -0.19726562  0.03686523 -0.05273438  0.28710938  0.16113281  0.18945312\n",
            "  0.31835938 -0.03637695 -0.23242188 -0.20898438 -0.04760742 -0.1171875\n",
            "  0.0135498   0.22753906 -0.2734375  -0.13378906  0.00215149  0.28125\n",
            " -0.07275391  0.109375   -0.33398438 -0.40820312  0.00127411 -0.06054688\n",
            " -0.1171875   0.19042969  0.01489258 -0.06030273  0.18652344  0.05834961\n",
            "  0.03881836 -0.14648438  0.03833008 -0.31054688 -0.01745605 -0.11523438\n",
            "  0.11328125  0.08886719 -0.16796875 -0.02514648  0.19140625  0.18164062\n",
            " -0.37304688 -0.03198242  0.16699219 -0.05078125 -0.21582031 -0.03198242\n",
            " -0.20117188 -0.14746094  0.10058594  0.2265625   0.06396484  0.07275391\n",
            " -0.42773438  0.28710938  0.08300781  0.05371094 -0.14550781  0.02600098\n",
            " -0.25        0.17089844 -0.29101562 -0.0534668   0.15625    -0.14550781\n",
            " -0.16699219  0.13476562  0.08203125  0.1953125  -0.1640625   0.12695312\n",
            " -0.05102539  0.09716797  0.046875    0.23632812  0.29882812 -0.07275391\n",
            "  0.01477051  0.10253906 -0.00964355 -0.07470703 -0.07568359  0.19921875\n",
            " -0.02185059  0.03857422 -0.00485229  0.07714844  0.18164062 -0.06396484]\n"
          ],
          "name": "stdout"
        }
      ]
    },
    {
      "cell_type": "code",
      "metadata": {
        "id": "80uJ1WiS_WG-",
        "colab_type": "code",
        "outputId": "549013b2-5fac-4072-8089-653505ba0756",
        "colab": {
          "base_uri": "https://localhost:8080/",
          "height": 34
        }
      },
      "source": [
        "# Find the dimension of vector (it's 300)\n",
        "print(len(vector))"
      ],
      "execution_count": 0,
      "outputs": [
        {
          "output_type": "stream",
          "text": [
            "300\n"
          ],
          "name": "stdout"
        }
      ]
    },
    {
      "cell_type": "code",
      "metadata": {
        "id": "Ao0L1NZ5_WIz",
        "colab_type": "code",
        "outputId": "30800326-5da3-47ef-9c03-37b82c5a412c",
        "colab": {
          "base_uri": "https://localhost:8080/",
          "height": 191
        }
      },
      "source": [
        "# Find words similar to a vector\n",
        "wv.most_similar(positive=[vector])"
      ],
      "execution_count": 0,
      "outputs": [
        {
          "output_type": "execute_result",
          "data": {
            "text/plain": [
              "[('programming', 1.0),\n",
              " ('programing', 0.8606169819831848),\n",
              " ('Programming', 0.6899746060371399),\n",
              " ('NLP_neuro_linguistic', 0.6174068450927734),\n",
              " ('broadcasts', 0.5984179973602295),\n",
              " ('primetime_programming', 0.5968459248542786),\n",
              " ('ensnare_accelerators', 0.5962189435958862),\n",
              " ('telecasts', 0.5839172601699829),\n",
              " ('sublicensing_rights', 0.5721215009689331),\n",
              " ('primetime', 0.5611954927444458)]"
            ]
          },
          "metadata": {
            "tags": []
          },
          "execution_count": 19
        }
      ]
    },
    {
      "cell_type": "code",
      "metadata": {
        "id": "T2zR49wjAAlR",
        "colab_type": "code",
        "colab": {}
      },
      "source": [
        "def print_similar_words(word=None, wv=wv):\n",
        "  if word is None:\n",
        "    print(\"No word given\")\n",
        "  else:\n",
        "    for w in wv.most_similar(positive=[wv[word]]):\n",
        "      print(w)"
      ],
      "execution_count": 0,
      "outputs": []
    },
    {
      "cell_type": "code",
      "metadata": {
        "id": "59gwrqeGAZgC",
        "colab_type": "code",
        "outputId": "f43b91a3-cec9-49d9-cdd5-603ad4abd0de",
        "colab": {
          "base_uri": "https://localhost:8080/",
          "height": 191
        }
      },
      "source": [
        "print_similar_words(\"test\")"
      ],
      "execution_count": 0,
      "outputs": [
        {
          "output_type": "stream",
          "text": [
            "('test', 1.0)\n",
            "('tests', 0.8223524689674377)\n",
            "('testing', 0.7770693898200989)\n",
            "('tested', 0.6987471580505371)\n",
            "('Testing', 0.6231584548950195)\n",
            "('testings', 0.5537309646606445)\n",
            "('Chlamydia_Rapid', 0.5230551362037659)\n",
            "('extramarital_affairs_flunk', 0.5202082395553589)\n",
            "('exam', 0.5065851211547852)\n",
            "('pretests', 0.5008640885353088)\n"
          ],
          "name": "stdout"
        }
      ]
    },
    {
      "cell_type": "code",
      "metadata": {
        "id": "XTE7WoYrAZtU",
        "colab_type": "code",
        "outputId": "d2a0047c-c7ba-48c7-d0ef-fd1673faf982",
        "colab": {
          "base_uri": "https://localhost:8080/",
          "height": 191
        }
      },
      "source": [
        "print_similar_words(\"coffee\") #Food"
      ],
      "execution_count": 0,
      "outputs": [
        {
          "output_type": "stream",
          "text": [
            "('coffee', 1.0)\n",
            "('coffees', 0.721267819404602)\n",
            "('gourmet_coffee', 0.7057087421417236)\n",
            "('Coffee', 0.6900455951690674)\n",
            "('o_joe', 0.6891065835952759)\n",
            "('Starbucks_coffee', 0.6874972581863403)\n",
            "('coffee_beans', 0.6749705076217651)\n",
            "('latté', 0.664122462272644)\n",
            "('cappuccino', 0.6625496745109558)\n",
            "('brewed_coffee', 0.6621608734130859)\n"
          ],
          "name": "stdout"
        }
      ]
    },
    {
      "cell_type": "code",
      "metadata": {
        "id": "DuWFCcIpAfhy",
        "colab_type": "code",
        "outputId": "38b6cefb-74a6-4c00-d01a-7a12703e42d0",
        "colab": {
          "base_uri": "https://localhost:8080/",
          "height": 191
        }
      },
      "source": [
        "print_similar_words(\"hockey\") #Sports"
      ],
      "execution_count": 0,
      "outputs": [
        {
          "output_type": "stream",
          "text": [
            "('hockey', 1.0)\n",
            "('Hockey', 0.7227486371994019)\n",
            "('Ice_Hockey', 0.6408184170722961)\n",
            "('lacrosse', 0.6390798091888428)\n",
            "('peewee_hockey', 0.6332175135612488)\n",
            "('soccer', 0.6270937323570251)\n",
            "('Hockey_League', 0.6250644326210022)\n",
            "('pee_wee_hockey', 0.6238211393356323)\n",
            "('basketball', 0.6131463646888733)\n",
            "('midget_hockey', 0.6043297052383423)\n"
          ],
          "name": "stdout"
        }
      ]
    },
    {
      "cell_type": "code",
      "metadata": {
        "id": "Tv1LpzArAfjj",
        "colab_type": "code",
        "outputId": "28159a24-ab80-41ae-8c6b-94a73f279b99",
        "colab": {
          "base_uri": "https://localhost:8080/",
          "height": 191
        }
      },
      "source": [
        "print_similar_words(\"Beethoven\") #Music composers"
      ],
      "execution_count": 0,
      "outputs": [
        {
          "output_type": "stream",
          "text": [
            "('Beethoven', 1.0)\n",
            "('Mozart', 0.8049119710922241)\n",
            "('Brahms', 0.801065981388092)\n",
            "('Tchaikovsky', 0.7523819208145142)\n",
            "('Liszt', 0.7483128309249878)\n",
            "('JS_Bach', 0.7367250323295593)\n",
            "('Rachmaninoff', 0.7326319217681885)\n",
            "('Shostakovich', 0.7264085412025452)\n",
            "('Debussy', 0.7217074632644653)\n",
            "('Scriabin', 0.7209811210632324)\n"
          ],
          "name": "stdout"
        }
      ]
    },
    {
      "cell_type": "code",
      "metadata": {
        "id": "C7Zy6_7lAqV1",
        "colab_type": "code",
        "outputId": "442b2def-d69a-4c79-8abc-28182756574a",
        "colab": {
          "base_uri": "https://localhost:8080/",
          "height": 191
        }
      },
      "source": [
        "print_similar_words(\"Shakira\") #Music artists"
      ],
      "execution_count": 0,
      "outputs": [
        {
          "output_type": "stream",
          "text": [
            "('Shakira', 1.0)\n",
            "('singer_Shakira', 0.642167866230011)\n",
            "('Beyonce', 0.6416192650794983)\n",
            "('Fijación_Oral_Vol', 0.617068886756897)\n",
            "('Alicia_Keys', 0.599069356918335)\n",
            "('Enrique_Iglesias', 0.5965898036956787)\n",
            "('Beyoncé', 0.5943112373352051)\n",
            "('manager_Fifi_Kurzman', 0.5922718644142151)\n",
            "('Nelly_Furtado', 0.5856097936630249)\n",
            "('Cape_Town_Freshlyground', 0.5709559917449951)\n"
          ],
          "name": "stdout"
        }
      ]
    },
    {
      "cell_type": "code",
      "metadata": {
        "id": "TxYSEERsAqhm",
        "colab_type": "code",
        "outputId": "dde2643e-67b6-44c4-b500-2bfc6bb3b9cf",
        "colab": {
          "base_uri": "https://localhost:8080/",
          "height": 191
        }
      },
      "source": [
        "print_similar_words(\"love\") #Abstract concepts"
      ],
      "execution_count": 0,
      "outputs": [
        {
          "output_type": "stream",
          "text": [
            "('love', 1.0)\n",
            "('loved', 0.6907791495323181)\n",
            "('adore', 0.6816873550415039)\n",
            "('loves', 0.6618633270263672)\n",
            "('passion', 0.6100709438323975)\n",
            "('hate', 0.600395679473877)\n",
            "('loving', 0.5886635780334473)\n",
            "('Ilove', 0.5702950954437256)\n",
            "('affection', 0.5664337873458862)\n",
            "('undying_love', 0.5547305345535278)\n"
          ],
          "name": "stdout"
        }
      ]
    },
    {
      "cell_type": "code",
      "metadata": {
        "id": "Um-R5gSLBOca",
        "colab_type": "code",
        "outputId": "d0256411-f500-4b36-bcfc-61e9ccae17ee",
        "colab": {
          "base_uri": "https://localhost:8080/",
          "height": 191
        }
      },
      "source": [
        "print_similar_words(\"Vaibhav\") #Names"
      ],
      "execution_count": 0,
      "outputs": [
        {
          "output_type": "stream",
          "text": [
            "('Vaibhav', 1.0)\n",
            "('Prashant', 0.7736366987228394)\n",
            "('Gaurav', 0.7660701870918274)\n",
            "('Rohit', 0.7647777795791626)\n",
            "('Rajesh', 0.7497475743293762)\n",
            "('Sumit', 0.7495461702346802)\n",
            "('Deepak', 0.7480446100234985)\n",
            "('Saurabh', 0.7463053464889526)\n",
            "('Vinay', 0.7428852915763855)\n",
            "('Vishal', 0.7413797378540039)\n"
          ],
          "name": "stdout"
        }
      ]
    },
    {
      "cell_type": "markdown",
      "metadata": {
        "id": "WU_ziUPf6-9G",
        "colab_type": "text"
      },
      "source": [
        "# Analogies"
      ]
    },
    {
      "cell_type": "code",
      "metadata": {
        "id": "RLAhYRN-YlIC",
        "colab_type": "code",
        "outputId": "d33d9346-e7e8-41ad-a517-bebbb4ed47f7",
        "colab": {
          "base_uri": "https://localhost:8080/",
          "height": 191
        }
      },
      "source": [
        "# India : Delhi :: Berlin : ??\n",
        "vec = wv['Germany'] - wv['India'] + wv['Delhi'] #Capitals\n",
        "wv.most_similar(positive=[vec])"
      ],
      "execution_count": 0,
      "outputs": [
        {
          "output_type": "execute_result",
          "data": {
            "text/plain": [
              "[('Berlin', 0.7211145162582397),\n",
              " ('Germany', 0.6761950254440308),\n",
              " ('Dusseldorf', 0.6079208850860596),\n",
              " ('Delhi', 0.6058413982391357),\n",
              " ('Leipzig', 0.6056665778160095),\n",
              " ('Frankfurt', 0.5892257690429688),\n",
              " ('Cologne', 0.5859718322753906),\n",
              " ('Munich', 0.5853998064994812),\n",
              " ('Hamburg', 0.581586480140686),\n",
              " ('Münster', 0.5783610343933105)]"
            ]
          },
          "metadata": {
            "tags": []
          },
          "execution_count": 65
        }
      ]
    },
    {
      "cell_type": "code",
      "metadata": {
        "id": "bd91OodMdTu4",
        "colab_type": "code",
        "outputId": "d0d426f9-5668-4248-b990-be432b0e1628",
        "colab": {
          "base_uri": "https://localhost:8080/",
          "height": 191
        }
      },
      "source": [
        "# life : death :: white : ??\n",
        "vec = wv['white'] - wv['life'] + wv['death'] #Philosophy\n",
        "wv.most_similar(positive=[vec])"
      ],
      "execution_count": 0,
      "outputs": [
        {
          "output_type": "execute_result",
          "data": {
            "text/plain": [
              "[('white', 0.6257379055023193),\n",
              " ('death', 0.5636220574378967),\n",
              " ('black', 0.5485159158706665),\n",
              " ('deaths', 0.4514094293117523),\n",
              " ('nooses_dangling', 0.4427206516265869),\n",
              " ('blue', 0.4416115880012512),\n",
              " ('slaying', 0.43937206268310547),\n",
              " ('homicide', 0.4355132579803467),\n",
              " ('bloodstained_robe', 0.4230232238769531),\n",
              " ('murder', 0.42059534788131714)]"
            ]
          },
          "metadata": {
            "tags": []
          },
          "execution_count": 66
        }
      ]
    },
    {
      "cell_type": "code",
      "metadata": {
        "id": "OfJlkLfSENwk",
        "colab_type": "code",
        "outputId": "37b36a11-05ab-438f-8a6c-fc654e8cd663",
        "colab": {
          "base_uri": "https://localhost:8080/",
          "height": 191
        }
      },
      "source": [
        "vec = wv['uncle'] - wv['man'] + wv['woman'] #Gender\n",
        "wv.most_similar(positive=[vec])"
      ],
      "execution_count": 0,
      "outputs": [
        {
          "output_type": "execute_result",
          "data": {
            "text/plain": [
              "[('uncle', 0.8322185277938843),\n",
              " ('aunt', 0.8243412971496582),\n",
              " ('mother', 0.8033039569854736),\n",
              " ('niece', 0.7899689674377441),\n",
              " ('father', 0.7580469846725464),\n",
              " ('grandmother', 0.7534991502761841),\n",
              " ('daughter', 0.7406191229820251),\n",
              " ('husband', 0.7206656336784363),\n",
              " ('nephew', 0.7067581415176392),\n",
              " ('sister', 0.7060453295707703)]"
            ]
          },
          "metadata": {
            "tags": []
          },
          "execution_count": 67
        }
      ]
    },
    {
      "cell_type": "code",
      "metadata": {
        "id": "vovkWFoAERqY",
        "colab_type": "code",
        "outputId": "353c6306-2510-45ef-850a-70dacb6fc1cb",
        "colab": {
          "base_uri": "https://localhost:8080/",
          "height": 191
        }
      },
      "source": [
        "vec = wv['fast'] - wv['quick'] + wv['quickest'] #Degrees of adjectives\n",
        "wv.most_similar(positive=[vec])"
      ],
      "execution_count": 0,
      "outputs": [
        {
          "output_type": "execute_result",
          "data": {
            "text/plain": [
              "[('quickest', 0.7896946668624878),\n",
              " ('fastest', 0.7499547600746155),\n",
              " ('fast', 0.6063127517700195),\n",
              " ('slowest', 0.5907609462738037),\n",
              " ('faster', 0.5143135786056519),\n",
              " ('2min_##.###sec', 0.5023351907730103),\n",
              " (\"#'##_.7\", 0.49874669313430786),\n",
              " ('#m##.###_seconds', 0.4948148727416992),\n",
              " ('#.###secs_slower', 0.4833757281303406),\n",
              " ('1min_##.###s_##.##mph', 0.47246843576431274)]"
            ]
          },
          "metadata": {
            "tags": []
          },
          "execution_count": 72
        }
      ]
    },
    {
      "cell_type": "markdown",
      "metadata": {
        "id": "dn2UVKQ87FOP",
        "colab_type": "text"
      },
      "source": [
        "## Bias!\n",
        "![](https://i.imgur.com/4WuyKeJ.png)\n",
        "- Tolga et al. 2016"
      ]
    },
    {
      "cell_type": "code",
      "metadata": {
        "id": "xwB7naGKdTtW",
        "colab_type": "code",
        "outputId": "b55b8743-e08f-4006-d216-cd5831c177fe",
        "colab": {
          "base_uri": "https://localhost:8080/",
          "height": 191
        }
      },
      "source": [
        "vec = wv['computer_programmer'] - wv['man'] + wv['woman']\n",
        "wv.most_similar(positive=[vec])"
      ],
      "execution_count": 0,
      "outputs": [
        {
          "output_type": "execute_result",
          "data": {
            "text/plain": [
              "[('computer_programmer', 0.9105811715126038),\n",
              " ('homemaker', 0.5771316289901733),\n",
              " ('schoolteacher', 0.5500192046165466),\n",
              " ('graphic_designer', 0.5464699268341064),\n",
              " ('mechanical_engineer', 0.539836585521698),\n",
              " ('electrical_engineer', 0.533705472946167),\n",
              " ('housewife', 0.5274524688720703),\n",
              " ('programmer', 0.5096209049224854),\n",
              " ('businesswoman', 0.5029540657997131),\n",
              " ('keypunch_operator', 0.4974639415740967)]"
            ]
          },
          "metadata": {
            "tags": []
          },
          "execution_count": 14
        }
      ]
    },
    {
      "cell_type": "code",
      "metadata": {
        "id": "0U7pN3C7Gah5",
        "colab_type": "code",
        "outputId": "6f94549f-9a46-4093-bed2-a805d7b5e128",
        "colab": {
          "base_uri": "https://localhost:8080/",
          "height": 191
        }
      },
      "source": [
        "vec = wv['doctor'] - wv['man'] + wv['woman']\n",
        "wv.most_similar(positive=[vec])"
      ],
      "execution_count": 0,
      "outputs": [
        {
          "output_type": "execute_result",
          "data": {
            "text/plain": [
              "[('doctor', 0.883492112159729),\n",
              " ('gynecologist', 0.7276507019996643),\n",
              " ('nurse', 0.6698512434959412),\n",
              " ('physician', 0.6674121022224426),\n",
              " ('doctors', 0.6649492979049683),\n",
              " ('pediatrician', 0.6398377418518066),\n",
              " ('nurse_practitioner', 0.6237459778785706),\n",
              " ('obstetrician', 0.6188926696777344),\n",
              " ('midwife', 0.6041982769966125),\n",
              " ('dentist', 0.5999662280082703)]"
            ]
          },
          "metadata": {
            "tags": []
          },
          "execution_count": 73
        }
      ]
    }
  ]
}